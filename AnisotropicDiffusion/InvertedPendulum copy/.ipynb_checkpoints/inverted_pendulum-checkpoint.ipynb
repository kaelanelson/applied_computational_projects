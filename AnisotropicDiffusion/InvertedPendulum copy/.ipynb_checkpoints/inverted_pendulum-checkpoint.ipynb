{
 "cells": [
  {
   "cell_type": "code",
   "execution_count": 1,
   "metadata": {},
   "outputs": [],
   "source": [
    "import numpy as np\n",
    "from matplotlib import pyplot as plt\n",
    "from scipy.optimize import root\n",
    "from scipy import linalg as la\n",
    "from scipy.integrate import odeint\n",
    "from scipy.linalg import solve_continuous_are"
   ]
  },
  {
   "cell_type": "code",
   "execution_count": 2,
   "metadata": {},
   "outputs": [],
   "source": [
    "def linearized_init(M, m, l, q1, q2, q3, q4, r):\n",
    "    '''Parameters:\n",
    "    ----------\n",
    "    M, m: floats\n",
    "          masses of the rickshaw and the present\n",
    "    l   : float\n",
    "          length of the rod\n",
    "    q1, q2, q3, q4, r : floats\n",
    "    relative weights of the position and velocity of the rickshaw, ←  the\n",
    "    angular displacement theta and the change in theta, and the ←  control\n",
    "    Return\n",
    "    -------\n",
    "    A : ndarray of shape (4,4)\n",
    "    B : ndarray of shape (4,1)\n",
    "    Q : ndarray of shape (4,4)\n",
    "    R : ndarray of shape (1,1)\n",
    "    '''\n",
    "    g = 9.8\n",
    "    Q = np.diag(np.array([q1, q2, q3, q4], dtype=np.float))\n",
    "    B = np.array([[0], [1/M], [0], [1/(M*l)]], dtype=np.float)\n",
    "    A = np.array([[0, 1, 0, 0], [0, 0, (m*g)/M, 0],\n",
    "                 [0, 0, 0, 1], [0, 0, g/(M*l)*(M+m), 0]], dtype=np.float)\n",
    "    R = np.array([r], dtype=np.float)\n",
    "    return A, B, Q, R"
   ]
  },
  {
   "cell_type": "code",
   "execution_count": 3,
   "metadata": {},
   "outputs": [],
   "source": [
    "def find_P(A, B, Q, R):\n",
    "    '''\n",
    "    Parameters:\n",
    "    ----------\n",
    "    A, Q    : ndarrays of shape (4,4)\n",
    "    B       : ndarray of shape (4,1)\n",
    "    R       : ndarray of shape (1,1)\n",
    "    Returns\n",
    "    -------\n",
    "    P       : the matrix solution of the Riccati equation\n",
    "    '''\n",
    "    \n",
    "    def compute_dp(P):\n",
    "        P = P.reshape((4,4))\n",
    "        d_approx = P@A + A.T@P + Q - (1./R)*P@np.outer(B,B.T)@P\n",
    "        return d_approx.reshape(16)\n",
    "    \n",
    "    rand_guess = np.ones(16)\n",
    "    sol = root(compute_dp, rand_guess).x\n",
    "     \n",
    "    return sol.reshape((4,4)) #, np.linalg.eig(A - B*(1./R)*B.T@P)\n",
    "    "
   ]
  },
  {
   "cell_type": "code",
   "execution_count": 4,
   "metadata": {},
   "outputs": [],
   "source": [
    "M, m = 23., 5.\n",
    "l = 4.\n",
    "q1, q2, q3, q4 = 1., 1., 1., 1.\n",
    "r = 10.\n",
    "\n",
    "A, B, Q, R = linearized_init(M, m, l, q1, q2, q3, q4, r)\n",
    "P = find_P(A, B, Q, R)"
   ]
  },
  {
   "cell_type": "code",
   "execution_count": 5,
   "metadata": {},
   "outputs": [],
   "source": [
    "# print(\"E-vals:\", e_vals[0])"
   ]
  },
  {
   "cell_type": "code",
   "execution_count": 6,
   "metadata": {},
   "outputs": [],
   "source": [
    "def rickshaw(tv, X0, A, B, Q, R, P):\n",
    "    '''\n",
    "    Parameters:\n",
    "    ----------\n",
    "    tv  : ndarray of time values, with shape (n+1,)\n",
    "    X0  : Initial conditions on state variables\n",
    "    A, Q: ndarrays of shape (4,4)\n",
    "    B   : ndarray of shape (4,1)\n",
    "    R   : ndarray of shape (1,1)\n",
    "    P   : ndarray of shape (4,4)\n",
    "    Returns\n",
    "    -------\n",
    "    Z : ndarray of shape (n+1,4), the state vector at each time\n",
    "    U : ndarray of shape (n+1,), the control values\n",
    "    '''\n",
    "\n",
    "    def compute_dz(z, t):\n",
    "        return (A - (1./R)*B@B.T@P)@z\n",
    "    \n",
    "    Z = odeint(compute_dz, X0, tv)\n",
    "    U = []\n",
    "    for z in Z:\n",
    "        U.append(-1./R*B.T@P@z)\n",
    "    \n",
    "    return Z, np.array(U)"
   ]
  },
  {
   "cell_type": "code",
   "execution_count": 7,
   "metadata": {},
   "outputs": [],
   "source": [
    "M, m = 23., 5.\n",
    "l = 4.\n",
    "q1, q2, q3, q4 = 1., 1., 1., 1.\n",
    "r = 10.\n",
    "tv = np.linspace(0,6, 100)\n",
    "X0 = np.array([-1, -1, .1, -.2])\n",
    "A, B, Q, R = linearized_init(M, m, l, q1, q2, q3, q4, r)\n",
    "P = find_P(A, B, Q, R)\n",
    "z, u = rickshaw(tv, X0, A, B, Q, R, P)"
   ]
  },
  {
   "cell_type": "code",
   "execution_count": 8,
   "metadata": {},
   "outputs": [],
   "source": [
    "tv = np.linspace(0,60, 100)\n",
    "P_are = solve_continuous_are(A, B, Q, R)\n",
    "z_are, u_are = rickshaw(tv, X0, A, B, Q, R, P_are)"
   ]
  },
  {
   "cell_type": "code",
   "execution_count": 9,
   "metadata": {},
   "outputs": [
    {
     "data": {
      "image/png": "[encoded data removed]",
      "text/plain": [
       "<matplotlib.figure.Figure at 0x107f4d7b8>"
      ]
     },
     "metadata": {},
     "output_type": "display_data"
    }
   ],
   "source": [
    "plt.plot(tv,z[:, 0])\n",
    "plt.plot(tv,z[:, 1])\n",
    "plt.plot(tv,z[:, 2])\n",
    "plt.plot(tv,z[:, 3])\n",
    "plt.plot(tv,u)\n",
    "plt.title(\"Scipy.optimize.odeint Solution\")\n",
    "plt.xlabel(\"Seconds\")\n",
    "plt.show()"
   ]
  },
  {
   "cell_type": "code",
   "execution_count": 10,
   "metadata": {},
   "outputs": [
    {
     "data": {
      "image/png": "[encoded data removed]",
      "text/plain": [
       "<matplotlib.figure.Figure at 0x10d0af908>"
      ]
     },
     "metadata": {},
     "output_type": "display_data"
    }
   ],
   "source": [
    "plt.plot(tv,z_are[:, 0])\n",
    "plt.plot(tv,z_are[:, 1])\n",
    "plt.plot(tv,z_are[:, 2])\n",
    "plt.plot(tv,z_are[:, 3])\n",
    "plt.plot(tv,u_are)\n",
    "plt.title(\"Solve Continuous Are Solution\")\n",
    "plt.xlabel(\"Seconds\")\n",
    "plt.show()"
   ]
  },
  {
   "cell_type": "code",
   "execution_count": null,
   "metadata": {},
   "outputs": [],
   "source": []
  }
 ],
 "metadata": {
  "kernelspec": {
   "display_name": "Python 3",
   "language": "python",
   "name": "python3"
  },
  "language_info": {
   "codemirror_mode": {
    "name": "ipython",
    "version": 3
   },
   "file_extension": ".py",
   "mimetype": "text/x-python",
   "name": "python",
   "nbconvert_exporter": "python",
   "pygments_lexer": "ipython3",
   "version": "3.6.1"
  }
 },
 "nbformat": 4,
 "nbformat_minor": 2
}
