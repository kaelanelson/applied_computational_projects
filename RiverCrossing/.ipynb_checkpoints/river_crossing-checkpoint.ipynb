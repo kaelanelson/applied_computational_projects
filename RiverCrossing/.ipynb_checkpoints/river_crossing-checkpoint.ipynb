{
 "cells": [
  {
   "cell_type": "code",
   "execution_count": 81,
   "metadata": {},
   "outputs": [],
   "source": [
    "import numpy as np\n",
    "from scipy.integrate import quad\n",
    "from scipy.optimize import root\n",
    "import scipy\n",
    "from scipy import interpolate\n",
    "from matplotlib import pyplot as plt"
   ]
  },
  {
   "cell_type": "markdown",
   "metadata": {},
   "source": [
    "## Problem 1"
   ]
  },
  {
   "cell_type": "code",
   "execution_count": 27,
   "metadata": {},
   "outputs": [],
   "source": [
    "def L(x, y, y_prime):\n",
    "    alpha = (1-c(x)**2)**(-.5)\n",
    "    return alpha*np.sqrt(1 + (alpha*y_prime(x))**2) - (alpha**2)*c(x)*y_prime(x)\n",
    "\n",
    "def T(x, y, y_prime, a, b):\n",
    "    new_L = lambda x: L(x, y, y_prime)\n",
    "    return(sp.integrate.quad(new_L, a, b))"
   ]
  },
  {
   "cell_type": "code",
   "execution_count": 85,
   "metadata": {
    "scrolled": false
   },
   "outputs": [
    {
     "data": {
      "text/plain": [
       "2.2591496762574677"
      ]
     },
     "execution_count": 85,
     "metadata": {},
     "output_type": "execute_result"
    }
   ],
   "source": [
    "c = lambda x: (-.7)*(x**2 - 1)\n",
    "x = np.linspace(-1, 1, 100)\n",
    "y = lambda x: x\n",
    "y_prime = lambda x:1\n",
    "# Testing\n",
    "L(x, y, y_prime)\n",
    "T(x, y, y_prime, -1, 1)[0]"
   ]
  },
  {
   "cell_type": "markdown",
   "metadata": {},
   "source": [
    "## Problem 2"
   ]
  },
  {
   "cell_type": "code",
   "execution_count": 86,
   "metadata": {},
   "outputs": [
    {
     "name": "stdout",
     "output_type": "stream",
     "text": [
      "Upper bound: 3.8770820491384126\n",
      "Lower bound: 2\n"
     ]
    }
   ],
   "source": [
    "a = -1\n",
    "b = 1\n",
    "y = lambda x: (5/2.)*x + 5/2.\n",
    "y_prime = lambda x: 5/2.\n",
    "upper_bd = T(x, y, y_prime, a, b)[0]\n",
    "print(\"Upper bound:\", upper_bd)\n",
    "print(\"Lower bound:\", 2)"
   ]
  },
  {
   "cell_type": "markdown",
   "metadata": {},
   "source": [
    "## Problem 3"
   ]
  },
  {
   "cell_type": "code",
   "execution_count": 93,
   "metadata": {},
   "outputs": [
    {
     "data": {
      "image/png": "[encoded data removed]",
      "text/plain": [
       "<matplotlib.figure.Figure at 0x119f74828>"
      ]
     },
     "metadata": {},
     "output_type": "display_data"
    }
   ],
   "source": [
    "def cheb(N):\n",
    "    x =  np.cos((np.pi/N)*np.linspace(0,N,N+1))\n",
    "    x.shape = (N+1,1)\n",
    "    lin = np.linspace(0,N,N+1)\n",
    "    lin.shape = (N+1,1)\n",
    "    c = np.ones((N+1,1))\n",
    "    c[0], c[-1] = 2., 2.\n",
    "    c = c*(-1.)**lin\n",
    "    X = x*np.ones(N+1) # broadcast along 2nd dimension (columns)\n",
    "    dX = X - X.T\n",
    "    D = (c*(1./c).T)/(dX + np.eye(N+1))\n",
    "    D  = D - np.diag(np.sum(D.T,axis=0))\n",
    "    x.shape = (N+1,)\n",
    "    # Here we return the differentiation matrix and the Chebyshev points,\n",
    "    # numbered from x_0 = 1 to x_N = -1\n",
    "    return D, x\n",
    "\n",
    "def EL_equations(y):#x ,y_prime, D):       \n",
    "    y_prime = D@y\n",
    "    alpha = (1 - c(cheb_pts)**2)**(-.5)\n",
    "    Ly_prime = (alpha**3)*y_prime*(1 + (alpha*y_prime)**2)**(-.5) - (alpha**2)*c(cheb_pts)\n",
    "    out = D@Ly_prime\n",
    "    out[0], out[-1] = y[0] - 5, y[-1]\n",
    "    return out\n",
    "    \n",
    "\n",
    "D, cheb_pts = cheb(30)    \n",
    "c = lambda x: (-.7)*(x**2 - 1)\n",
    "y = lambda x: (5/2.)*x + 5/2.\n",
    "guess = np.array([y(x) for x in cheb_pts])\n",
    "solution = root(EL_equations, guess).x\n",
    "\n",
    "approx_pts = scipy.interpolate.barycentric_interpolate(cheb_pts, solution, x)\n",
    "\n",
    "plt.plot(x, approx_pts)\n",
    "plt.show()"
   ]
  },
  {
   "cell_type": "markdown",
   "metadata": {},
   "source": [
    "## Problem 4"
   ]
  },
  {
   "cell_type": "code",
   "execution_count": 95,
   "metadata": {},
   "outputs": [
    {
     "data": {
      "image/png": "[encoded data removed]",
      "text/plain": [
       "<matplotlib.figure.Figure at 0x11a17d7f0>"
      ]
     },
     "metadata": {},
     "output_type": "display_data"
    }
   ],
   "source": [
    "#change your y function to be that of the one in the lab\n",
    "N = 30\n",
    "D, cheb_pts = cheb(30) \n",
    "est_D = D@solution\n",
    "\n",
    "def y_p(theta):\n",
    "    D, x = cheb(N)\n",
    "    out = est_D - (np.sin(theta) + c(cheb_pts))/np.cos(theta)\n",
    "    return out\n",
    "\n",
    "guess = np.ones_like(cheb_pts)\n",
    "solution = root(y_p, guess).x\n",
    "approx_pts = scipy.interpolate.barycentric_interpolate(cheb_pts, solution, x)\n",
    "\n",
    "plt.plot(x, approx_pts)\n",
    "plt.show()"
   ]
  },
  {
   "cell_type": "code",
   "execution_count": null,
   "metadata": {},
   "outputs": [],
   "source": []
  }
 ],
 "metadata": {
  "kernelspec": {
   "display_name": "Python 3",
   "language": "python",
   "name": "python3"
  },
  "language_info": {
   "codemirror_mode": {
    "name": "ipython",
    "version": 3
   },
   "file_extension": ".py",
   "mimetype": "text/x-python",
   "name": "python",
   "nbconvert_exporter": "python",
   "pygments_lexer": "ipython3",
   "version": "3.6.1"
  }
 },
 "nbformat": 4,
 "nbformat_minor": 2
}
