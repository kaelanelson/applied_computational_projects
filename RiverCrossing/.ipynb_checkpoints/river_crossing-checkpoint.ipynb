{
 "cells": [
  {
   "cell_type": "markdown",
   "metadata": {},
   "source": [
    "# River Crossing: Transit time crossing a river\n",
    "Kaela Nelson\n",
    "\n",
    "Volume 4"
   ]
  },
  {
   "cell_type": "markdown",
   "metadata": {},
   "source": [
    "Lab Objective: This lab discusses a classical calculus of variations problem: how is a river to be crossed in the shortest possible time? We will look at a numerical solution using the pseudospectral method. The mathematical details are found at: http://www.acme.byu.edu/wp-content/uploads/2018/02/18-River-Crossing.pdf ."
   ]
  },
  {
   "cell_type": "code",
   "execution_count": 33,
   "metadata": {},
   "outputs": [],
   "source": [
    "import numpy as np\n",
    "from scipy.integrate import quad\n",
    "from scipy.optimize import root\n",
    "import scipy as sp\n",
    "from scipy import interpolate\n",
    "from matplotlib import pyplot as plt"
   ]
  },
  {
   "cell_type": "markdown",
   "metadata": {},
   "source": [
    "## Problem 1\n",
    "Assume that the current is given by $C(x) = \\frac{7}{10}(x^2 - 1).$ (This function assumes, for example, that the current is faster near the center of the river.) Write a Python function that accepts as arguments a function $y$, its derivitive $y^{'}$, and an $x$-value, and returns $L(x, y(x), y^{'}(x))$ (where $T[y] = \\int_{-1}^1 L(x, y(x), y^{'}(x))$.) Use that function to define a second function that numerically computes $T[y]$ for a given path $y(x).$"
   ]
  },
  {
   "cell_type": "code",
   "execution_count": 34,
   "metadata": {},
   "outputs": [],
   "source": [
    "def L(x, y, y_prime):\n",
    "    alpha = (1-c(x)**2)**(-.5)\n",
    "    return alpha*np.sqrt(1 + (alpha*y_prime(x))**2) - (alpha**2)*c(x)*y_prime(x)\n",
    "\n",
    "def T(x, y, y_prime, a, b):\n",
    "    new_L = lambda x: L(x, y, y_prime)\n",
    "    return(sp.integrate.quad(new_L, a, b))"
   ]
  },
  {
   "cell_type": "code",
   "execution_count": 35,
   "metadata": {
    "scrolled": false
   },
   "outputs": [
    {
     "data": {
      "text/plain": [
       "2.2591496762574677"
      ]
     },
     "execution_count": 35,
     "metadata": {},
     "output_type": "execute_result"
    }
   ],
   "source": [
    "c = lambda x: (-.7)*(x**2 - 1)\n",
    "x = np.linspace(-1, 1, 100)\n",
    "y = lambda x: x\n",
    "y_prime = lambda x:1\n",
    "# Testing\n",
    "L(x, y, y_prime)\n",
    "T(x, y, y_prime, -1, 1)[0]"
   ]
  },
  {
   "cell_type": "markdown",
   "metadata": {},
   "source": [
    "## Problem 2\n",
    "Let $y(x)$ be the straight-line path between $A = (-1, 0)$ and $B = (1, 5).$ Numerically calculate $T[y]$ to get an upper bound on the minimum time required to cross from A to B. Using (18.2), find a lower bound on the minimum time required to cross."
   ]
  },
  {
   "cell_type": "code",
   "execution_count": 36,
   "metadata": {},
   "outputs": [
    {
     "name": "stdout",
     "output_type": "stream",
     "text": [
      "Upper bound: 3.8770820491384126\n",
      "Lower bound: 2\n"
     ]
    }
   ],
   "source": [
    "a = -1\n",
    "b = 1\n",
    "y = lambda x: (5/2.)*x + 5/2.\n",
    "y_prime = lambda x: 5/2.\n",
    "upper_bd = T(x, y, y_prime, a, b)[0]\n",
    "print(\"Upper bound:\", upper_bd)\n",
    "print(\"Lower bound:\", 2)"
   ]
  },
  {
   "cell_type": "markdown",
   "metadata": {},
   "source": [
    "## Problem 3\n",
    "Numerically solve the Euler-Langrange equation \n",
    "(18.4), using $c(x) = -\\frac{7}{10}(x^2 - 1)$ and $\\alpha = (1 - c^2)^{-\\frac{1}{2}},$ and $y(-1) = 0, y(1)=5.$"
   ]
  },
  {
   "cell_type": "code",
   "execution_count": 37,
   "metadata": {},
   "outputs": [
    {
     "data": {
      "image/png": "[encoded data removed]",
      "text/plain": [
       "<matplotlib.figure.Figure at 0x18190e5cf8>"
      ]
     },
     "metadata": {},
     "output_type": "display_data"
    }
   ],
   "source": [
    "def cheb(N):\n",
    "    x =  np.cos((np.pi/N)*np.linspace(0,N,N+1))\n",
    "    x.shape = (N+1,1)\n",
    "    lin = np.linspace(0,N,N+1)\n",
    "    lin.shape = (N+1,1)\n",
    "    c = np.ones((N+1,1))\n",
    "    c[0], c[-1] = 2., 2.\n",
    "    c = c*(-1.)**lin\n",
    "    X = x*np.ones(N+1) # broadcast along 2nd dimension (columns)\n",
    "    dX = X - X.T\n",
    "    D = (c*(1./c).T)/(dX + np.eye(N+1))\n",
    "    D  = D - np.diag(np.sum(D.T,axis=0))\n",
    "    x.shape = (N+1,)\n",
    "    # Here we return the differentiation matrix and the Chebyshev points,\n",
    "    # numbered from x_0 = 1 to x_N = -1\n",
    "    return D, x\n",
    "\n",
    "def EL_equations(y):#x ,y_prime, D):       \n",
    "    y_prime = D@y\n",
    "    alpha = (1 - c(cheb_pts)**2)**(-.5)\n",
    "    Ly_prime = (alpha**3)*y_prime*(1 + (alpha*y_prime)**2)**(-.5) - (alpha**2)*c(cheb_pts)\n",
    "    out = D@Ly_prime\n",
    "    out[0], out[-1] = y[0] - 5, y[-1]\n",
    "    return out\n",
    "    \n",
    "\n",
    "D, cheb_pts = cheb(30)    \n",
    "c = lambda x: (-.7)*(x**2 - 1)\n",
    "y = lambda x: (5/2.)*x + 5/2.\n",
    "guess = np.array([y(x) for x in cheb_pts])\n",
    "solution = root(EL_equations, guess).x\n",
    "\n",
    "approx_pts = scipy.interpolate.barycentric_interpolate(cheb_pts, solution, x)\n",
    "\n",
    "plt.plot(x, approx_pts, label = \"Numerical Solution\")\n",
    "plt.title(\"Trajectory with the shortest Transit Time\")\n",
    "plt.legend()\n",
    "plt.ylabel(\"y\")\n",
    "plt.xlabel(\"x\")\n",
    "plt.show()"
   ]
  },
  {
   "cell_type": "markdown",
   "metadata": {},
   "source": [
    "## Problem 4\n",
    "Plot the angle at which the boat should be pointed at each $x$-coordinate."
   ]
  },
  {
   "cell_type": "code",
   "execution_count": 38,
   "metadata": {},
   "outputs": [
    {
     "data": {
      "image/png": "[encoded data removed]",
      "text/plain": [
       "<matplotlib.figure.Figure at 0x181924f240>"
      ]
     },
     "metadata": {},
     "output_type": "display_data"
    }
   ],
   "source": [
    "#change your y function to be that of the one in the lab\n",
    "N = 30\n",
    "D, cheb_pts = cheb(30) \n",
    "est_D = D@solution\n",
    "\n",
    "def y_p(theta):\n",
    "    D, x = cheb(N)\n",
    "    out = est_D - (np.sin(theta) + c(cheb_pts))/np.cos(theta)\n",
    "    return out\n",
    "\n",
    "guess = np.ones_like(cheb_pts)\n",
    "solution = root(y_p, guess).x\n",
    "approx_pts = scipy.interpolate.barycentric_interpolate(cheb_pts, solution, x)\n",
    "\n",
    "plt.plot(x, approx_pts)\n",
    "plt.title(\"The Optimal Angle to Steer the Boat\")\n",
    "plt.xlabel(\"$x$\")\n",
    "plt.ylabel(\"theta\")\n",
    "plt.show()"
   ]
  }
 ],
 "metadata": {
  "kernelspec": {
   "display_name": "Python 3",
   "language": "python",
   "name": "python3"
  },
  "language_info": {
   "codemirror_mode": {
    "name": "ipython",
    "version": 3
   },
   "file_extension": ".py",
   "mimetype": "text/x-python",
   "name": "python",
   "nbconvert_exporter": "python",
   "pygments_lexer": "ipython3",
   "version": "3.6.1"
  }
 },
 "nbformat": 4,
 "nbformat_minor": 2
}
