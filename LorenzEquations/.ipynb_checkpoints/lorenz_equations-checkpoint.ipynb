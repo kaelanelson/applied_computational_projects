{
 "cells": [
  {
   "cell_type": "markdown",
   "metadata": {},
   "source": [
    "# Lorenz Equations\n",
    "Kaela Nelson\n",
    "\n",
    "Volume 4A\n",
    "\n",
    "Lab Ojective: Investigate the behavior of a system that exhibits chaotic behavior. Demonstrate methods for visualizing the evolution of a system.\n",
    "\n",
    "Note : Run the cells to render visuazation of the systems"
   ]
  },
  {
   "cell_type": "code",
   "execution_count": 1,
   "metadata": {},
   "outputs": [],
   "source": [
    "from matplotlib import rcParams, pyplot as plt\n",
    "from mpl_toolkits.mplot3d import Axes3D\n",
    "import numpy as np\n",
    "from scipy.integrate import odeint\n",
    "from matplotlib.animation import FuncAnimation\n",
    "from scipy import linalg as la\n",
    "from scipy.stats import linregress\n",
    "plt.switch_backend('qt5agg')"
   ]
  },
  {
   "cell_type": "markdown",
   "metadata": {},
   "source": [
    "## Problem 1"
   ]
  },
  {
   "cell_type": "code",
   "execution_count": 2,
   "metadata": {},
   "outputs": [],
   "source": [
    "def lorenz_ode(inputs, T):\n",
    "    '''Code up the sytem of equations given'''\n",
    "    Xprime  = sigma * (inputs[1] - inputs[0])\n",
    "    Yprime = rho*inputs[0] - inputs[1] -inputs[0]*inputs[2]\n",
    "    Zprime = inputs[0]*inputs[1] - beta*inputs[2]\n",
    "    return Xprime, Yprime, Zprime\n",
    "\n",
    "def solve_lorenz(init_cond, time=10):\n",
    "    T = np.linspace(0, time, time*100)  #initialize time interval for ode\n",
    "    '''Use odeint in conjuction with lorenz_ode and the time interval T\n",
    "    To get the X, Y, and Z values for this system.\n",
    "    You will need to transpose the output of odeint to graph it correctly.'''\n",
    "    sol = odeint(lorenz_ode, init_cond, T)\n",
    "    sol = sol.T\n",
    "    X, Y, Z = sol[0], sol[1], sol[2]\n",
    "    return X, Y, Z\n",
    "\n",
    "sigma = 10\n",
    "rho = 28\n",
    "beta = 8/3.\n",
    "init = (np.random.rand(3)*30) - 15\n",
    "x0, y0, z0 = init[0], init[1], init[2]\n",
    "init_cond = [x0, y0, z0]\n",
    "X, Y, Z = solve_lorenz(init_cond, 50)\n",
    "\n",
    "fig = plt.figure()\n",
    "ax = fig.gca(projection='3d')\n",
    "ax.plot( X, Y, Z )\n",
    "rcParams['figure.figsize'] = (16,10)\n",
    "ax.set_xlabel('X')\n",
    "ax.set_ylabel('Y')\n",
    "ax.set_zlabel('Z')\n",
    "ax.set_xlim3d([min(X), max(X)])\n",
    "ax.set_ylim3d([min(Y), max(Y)])\n",
    "ax.set_zlim3d([min(Z), max(Z)])\n",
    "plt.show()"
   ]
  },
  {
   "cell_type": "markdown",
   "metadata": {},
   "source": [
    "## Problem 2"
   ]
  },
  {
   "cell_type": "code",
   "execution_count": 3,
   "metadata": {},
   "outputs": [],
   "source": [
    "n = 3\n",
    "fig = plt.figure()\n",
    "ax = fig.gca(projection='3d')\n",
    "for i in range(n):\n",
    "    init = (np.random.rand(3)*30) - 15\n",
    "    x0, y0, z0 = init[0], init[1], init[2]\n",
    "    init_cond = [x0, y0, z0]\n",
    "    X, Y, Z = solve_lorenz(init_cond, 50)\n",
    "    ax.plot( X, Y, Z )\n",
    "    \n",
    "ax.set_xlim3d([min(X), max(X)])\n",
    "ax.set_ylim3d([min(Y), max(Y)])\n",
    "ax.set_zlim3d([min(Z), max(Z)])\n",
    "plt.show()"
   ]
  },
  {
   "cell_type": "markdown",
   "metadata": {},
   "source": [
    "## Probem 3 \n",
    "Use matplotlib.animation.FuncAnimation to produce a 3D animation of two solutions to the Lorenz equations with similar initial conditions. To make similar initial conditions, draw $(x_1, y_1, z_1)$ randomly as before, and then produce $(x_2, y_2, z_2)$ by adding a small perturbation. It will take several seconds before the separation between the two solutions will be noticeable."
   ]
  },
  {
   "cell_type": "code",
   "execution_count": 4,
   "metadata": {
    "collapsed": true
   },
   "outputs": [],
   "source": [
    "#Problem 3\n",
    "fig = plt.figure()\n",
    "ax = fig.gca(projection='3d')\n",
    "time = 100\n",
    "\n",
    "init0 = (np.random.rand(3)*30) - 15\n",
    "init1 = init0 + np.random.randn(3)*(1e-10)\n",
    "\n",
    "x0, y0, z0 = init0[0], init0[1], init0[2]\n",
    "x1, y1, z1 = init1[0], init1[1], init1[2]\n",
    "\n",
    "init_cond0 = [x0, y0, z0]\n",
    "init_cond1 = [x1, y1, z1]\n",
    "\n",
    "X0, Y0, Z0 = solve_lorenz(init_cond0, time)\n",
    "X1, Y1, Z1 = solve_lorenz(init_cond1, time)\n",
    "\n",
    "ax.plot( X0, Y0, Z0 )\n",
    "ax.plot( X1, Y1, Z1)\n",
    "\n",
    "plt.show()"
   ]
  },
  {
   "cell_type": "markdown",
   "metadata": {},
   "source": [
    "## Problem 4\n"
   ]
  },
  {
   "cell_type": "code",
   "execution_count": 5,
   "metadata": {
    "collapsed": true
   },
   "outputs": [],
   "source": [
    "#Problem 4\n",
    "\n",
    "fig = plt.figure()\n",
    "ax = fig.gca(projection='3d')\n",
    "\n",
    "init_drawing, = plt.plot([], [])\n",
    "pert_init_drawing, = plt.plot([], []) #note the comma after the variable name\n",
    "\n",
    "ax.set_xlim3d([min(X0), max(X0)])\n",
    "ax.set_ylim3d([min(Y0), max(Y0)])\n",
    "ax.set_zlim3d([min(Z0), max(Z0)])\n",
    "speed = 10\n",
    "#Define a function that updates each line\n",
    "def update(index):\n",
    "    index *= speed\n",
    "    init_drawing.set_data(X0[:index], Y0[:index])\n",
    "    pert_init_drawing.set_data(X1[:index], Y1[:index])\n",
    "    init_drawing.set_3d_properties(Z0[:index])\n",
    "    pert_init_drawing.set_3d_properties(Z1[:index])\n",
    "\n",
    "a = FuncAnimation(fig, update, frames=int(len(X0)/speed), interval=1)\n",
    "plt.show()"
   ]
  },
  {
   "cell_type": "markdown",
   "metadata": {},
   "source": [
    "## Problem 5"
   ]
  },
  {
   "cell_type": "code",
   "execution_count": 6,
   "metadata": {
    "collapsed": true
   },
   "outputs": [],
   "source": [
    "time = 50\n",
    "init = (np.random.rand(3)*30) - 15\n",
    "x, y, z = init[0], init[1], init[2]\n",
    "init_cond = [x, y, z]\n",
    "T = np.linspace(0, time, time*100)\n",
    "\n",
    "X1, Y1, Z1 = odeint(lorenz_ode, init_cond, T, atol=1E-14, rtol=1E-12).T\n",
    "X2, Y2, Z2 = odeint(lorenz_ode, init_cond, T, atol=1E-15, rtol=1E-13).T\n",
    "fig = plt.figure()\n",
    "ax = fig.gca(projection='3d')\n",
    "\n",
    "init_drawing1, = plt.plot([], [])\n",
    "init_drawing2, = plt.plot([], [])\n",
    "\n",
    "ax.set_xlim3d([min(X1), max(X1)])\n",
    "ax.set_ylim3d([min(Y1), max(Y1)])\n",
    "ax.set_zlim3d([min(Z1), max(Z1)])\n",
    "speed = 30\n",
    "\n",
    "def update2(index):\n",
    "    init_drawing1.set_data(X1[:index* speed], Y1[:index* speed])\n",
    "    init_drawing1.set_3d_properties(Z1[:index* speed])\n",
    "    \n",
    "    init_drawing2.set_data(X2[:index* speed], Y2[:index* speed])\n",
    "    init_drawing2.set_3d_properties(Z2[:index* speed])\n",
    "    \n",
    "a = FuncAnimation(fig, update2, frames=int(len(X1)/speed), interval=1)\n",
    "plt.show()   "
   ]
  },
  {
   "cell_type": "markdown",
   "metadata": {},
   "source": [
    "## Problem 6"
   ]
  },
  {
   "cell_type": "code",
   "execution_count": 7,
   "metadata": {
    "collapsed": true
   },
   "outputs": [],
   "source": [
    "time = 10\n",
    "init2 = (np.random.rand(3)*30) - 15\n",
    "x, y, z = init2[0], init2[1], init2[2]\n",
    "init_cond = [x, y, z]\n",
    "T = np.linspace(0, time, time*100)\n",
    "\n",
    "\n",
    "X,Y,Z = solve_lorenz(init_cond, time=10)\n",
    "X_attract, Y_attract, Z_attract = X[-1],Y[-1],Z[-1]\n",
    "X_pert, Y_pert, Z_pert = X_attract + np.random.randn()*(1e-10), Y_attract+ np.random.randn()*(1e-10), Z_attract+ np.random.randn()*(1e-10)\n",
    "\n",
    "init_attract = [X_attract, Y_attract, Z_attract]\n",
    "init_attract2 = [X_pert, Y_pert, Z_pert]\n",
    "\n",
    "X, Y, Z = solve_lorenz(init_attract, time)\n",
    "X1, Y1, Z1 = solve_lorenz(init_attract2, time)\n",
    "\n",
    "norm_ = []\n",
    "for i in range(len(X)):\n",
    "    p1 = np.array([X[i], Y[i], Z[i]])\n",
    "    p2 = np.array([X1[i], Y1[i], Z1[i]])\n",
    "    norm_.append(la.norm(p1-p2))\n",
    "\n",
    "plt.semilogy(T, norm_)\n",
    "\n",
    "#find fitted line\n",
    "logg = np.log(norm_)\n",
    "regressed = linregress(T,logg)\n",
    "m = regressed.slope\n",
    "intercept = regressed.intercept\n",
    "exp = np.exp(m*T + intercept)\n",
    "plt.semilogy(T, exp)\n",
    "plt.title(\"$\\lambda$ = {}\".format(m))\n",
    "plt.xlabel(\"Time\")\n",
    "plt.ylabel(\"Separation\")\n",
    "plt.show()"
   ]
  }
 ],
 "metadata": {
  "kernelspec": {
   "display_name": "Python 3",
   "language": "python",
   "name": "python3"
  },
  "language_info": {
   "codemirror_mode": {
    "name": "ipython",
    "version": 3
   },
   "file_extension": ".py",
   "mimetype": "text/x-python",
   "name": "python",
   "nbconvert_exporter": "python",
   "pygments_lexer": "ipython3",
   "version": "3.6.1"
  }
 },
 "nbformat": 4,
 "nbformat_minor": 2
}
