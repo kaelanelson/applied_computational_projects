{
 "cells": [
  {
   "cell_type": "markdown",
   "metadata": {},
   "source": [
    "# Volume 3: Gibbs Sampling and LDA\n",
    "    Kaela Nelson\n",
    "    Vol3B\n",
    "    2/1/1996"
   ]
  },
  {
   "cell_type": "markdown",
   "metadata": {},
   "source": [
    "Lab Objective: Understand the basic principles of implementing a Gibbs sample. Apply this to Latent Dirchlet Allocation. The source for this lab is given at: http://www.acme.byu.edu/wp-content/uploads/2018/02/GibbsLDA.pdf ."
   ]
  },
  {
   "cell_type": "markdown",
   "metadata": {},
   "source": [
    "Gibbs Sampling is a Markov Chain Monte Carlo (MCMC) sampling method. We construct a Markov chain to sample from a desired joint distribution,\n",
    "$P(x_1,...,x_n|y).$ Note that it is easier to sample from the one dimensional conditional distributions, $P(x_i|x_{-i},y)$ where $x_{-i} = x_i, ..., x_{i-1}, x_{i+1}, ..., x_n.$ "
   ]
  },
  {
   "cell_type": "code",
   "execution_count": 2,
   "metadata": {},
   "outputs": [],
   "source": [
    "import numpy as np\n",
    "from scipy.special import gammaln\n",
    "from scipy.stats import norm\n",
    "from math import sqrt\n",
    "from scipy.stats import invgamma\n",
    "from matplotlib import pyplot as plt\n",
    "from scipy.stats import gaussian_kde\n",
    "\n",
    "from tqdm import tqdm_notebook"
   ]
  },
  {
   "cell_type": "markdown",
   "metadata": {},
   "source": [
    "## Problem 1\n",
    "\n",
    "Implement a Gibbs sampler for the exam scores problem (using the data in `examscores.npy`). Note that we assume the spread of these exam scores can be modeled with a normal distribution of mean $\\mu$ and variance $\\sigma^2.$ "
   ]
  },
  {
   "cell_type": "code",
   "execution_count": 3,
   "metadata": {},
   "outputs": [],
   "source": [
    "def gibbs(y, nu, tau2, alpha, beta, n_samples):\n",
    "    \"\"\"Gibbs sampler for the exam scores problem, assuming the\n",
    "    following likelihood and priors.\n",
    "\n",
    "        y_i    ~ N(mu, sigma2),\n",
    "        mu     ~ N(nu, tau2),\n",
    "        sigma2 ~ IG(alpha, beta),\n",
    "\n",
    "    Parameters:\n",
    "        y ((N,) ndarray): the exam scores.\n",
    "        nu (float): The prior mean parameter for mu.\n",
    "        tau2 (float > 0): The prior variance parameter for mu.\n",
    "        alpha (float > 0): The prior alpha parameter for sigma2.\n",
    "        beta (float < 0): The prior beta parameter for sigma2.\n",
    "        n_samples (int): the number of samples to draw.\n",
    "\n",
    "    Returns:\n",
    "        ((n_samples, 2) ndarray): The mu and sigma2 samples (as columns).\n",
    "    \"\"\"\n",
    "    sigma2_samples = []\n",
    "    sigma2 = np.var(y)\n",
    "    \n",
    "    mu_samples = []\n",
    "    mu = np.average(y)\n",
    "    \n",
    "    for k in range(n_samples):\n",
    "        # updates tau2, nu, alpha, and beta\n",
    "        new_tau2 = 1./((1./tau2) + (len(y)/float(sigma2)))\n",
    "        new_nu = (new_tau2)*((nu/float(tau2)) + (1./float(sigma2))*(sum(y)))\n",
    "        new_alpha = alpha + len(y)/2.\n",
    "        new_beta = beta + .5*sum([(i - mu)**2 for i in y])\n",
    "\n",
    "        # uses new parameters to draw from normal and inv gamma distribution\n",
    "        mu = norm.rvs(new_nu, scale=sqrt(new_tau2))\n",
    "        mu_samples.append(mu)\n",
    "        \n",
    "        sigma2 = invgamma.rvs(new_alpha, scale=new_beta)\n",
    "        sigma2_samples.append(sigma2)\n",
    "\n",
    "    return mu_samples, sigma2_samples"
   ]
  },
  {
   "cell_type": "code",
   "execution_count": 4,
   "metadata": {},
   "outputs": [
    {
     "data": {
      "image/png": "[encoded data removed]",
      "text/plain": [
       "<matplotlib.figure.Figure at 0x112032dd8>"
      ]
     },
     "metadata": {},
     "output_type": "display_data"
    },
    {
     "data": {
      "image/png": "[encoded data removed]",
      "text/plain": [
       "<matplotlib.figure.Figure at 0x111947588>"
      ]
     },
     "metadata": {},
     "output_type": "display_data"
    }
   ],
   "source": [
    "# initial parameters\n",
    "mu = 0. \n",
    "sigma2 = 9. \n",
    "normal_sample = norm.rvs(mu, scale=sqrt(sigma2))\n",
    "alpha = 3.\n",
    "beta = 50.\n",
    "n_samples = 1000\n",
    "nu = 80\n",
    "tau2 = 16\n",
    "invgamma_sample = invgamma.rvs(alpha, scale=beta)\n",
    "\n",
    "# load data\n",
    "y = np.load(\"examscores.npy\")\n",
    "\n",
    "# runs gibbs sampling method\n",
    "mu, sigma2 = gibbs(y, nu, tau2, alpha, beta, n_samples)\n",
    "\n",
    "plt.hist(mu)\n",
    "plt.title(\"Gibbs Sampling: μ\")\n",
    "plt.xlabel(\"Values of μ\")\n",
    "plt.show()\n",
    "\n",
    "plt.hist(sigma2)\n",
    "plt.title(\"Gibbs Sampling: σ\")\n",
    "plt.xlabel(\"Values of σ\")\n",
    "plt.show()"
   ]
  },
  {
   "cell_type": "markdown",
   "metadata": {},
   "source": [
    "## Problem 2\n",
    "\n",
    "Plot the kernel density estimators for the posterior distributions of $\\mu$ and $\\sigma^2$.\n",
    "\n",
    "Next, use your samples of $\\mu$ and $\\sigma^2$ to draw samples from the posterior predictive distribution.\n",
    "Plot the kernel density estimator of your sampled scores."
   ]
  },
  {
   "cell_type": "code",
   "execution_count": 6,
   "metadata": {},
   "outputs": [
    {
     "data": {
      "image/png": "[encoded data removed]",
      "text/plain": [
       "<matplotlib.figure.Figure at 0x112111160>"
      ]
     },
     "metadata": {},
     "output_type": "display_data"
    },
    {
     "data": {
      "image/png": "[encoded data removed]",
      "text/plain": [
       "<matplotlib.figure.Figure at 0x1a1f2cdda0>"
      ]
     },
     "metadata": {},
     "output_type": "display_data"
    }
   ],
   "source": [
    "# kde for mu\n",
    "mu_kernel = gaussian_kde(mu)\n",
    "x_min = min(mu) - 1\n",
    "x_max = max(mu) + 1\n",
    "x = np.arange(x_min, x_max, step=0.1)\n",
    "plt.plot(x,mu_kernel(x), label=\"μ\")\n",
    "plt.legend()\n",
    "plt.title(\"μ KDE\")\n",
    "plt.show()\n",
    "\n",
    "# kde for sigma2\n",
    "s2_kernel = gaussian_kde(sigma2)\n",
    "x_min = min(sigma2) - 1\n",
    "x_max = max(sigma2) + 1\n",
    "x = np.arange(x_min, x_max, step=0.1)\n",
    "plt.plot(x,s2_kernel(x), label = \"σ\")\n",
    "plt.legend()\n",
    "plt.title(\"σ KDE\")\n",
    "plt.show()"
   ]
  },
  {
   "cell_type": "code",
   "execution_count": 8,
   "metadata": {},
   "outputs": [
    {
     "data": {
      "image/png": "[encoded data removed]",
      "text/plain": [
       "<matplotlib.figure.Figure at 0x1a1f446d68>"
      ]
     },
     "metadata": {},
     "output_type": "display_data"
    }
   ],
   "source": [
    "y = []\n",
    "for i in range(len(mu)):\n",
    "    #sample from normal distribution\n",
    "    y.append(np.random.normal(mu[i], np.sqrt(sigma2[i])))\n",
    "    \n",
    "y_kernel = gaussian_kde(y)\n",
    "x_min = min(y) - 1\n",
    "x_max = max(y) + 1\n",
    "x = np.arange(x_min, x_max, step=0.1)\n",
    "plt.plot(x,y_kernel(x), label = \"Gaussian KDE\")\n",
    "plt.title(\"Predictive Posterior distribution of exam scores\")\n",
    "plt.legend()\n",
    "plt.show()"
   ]
  },
  {
   "cell_type": "markdown",
   "metadata": {},
   "source": [
    "## Problem 3\n",
    "\n",
    "Implement `LDACGS.initialize()`.\n",
    "By randomly assigning initial topics, fill in the count matrices and topic assignment dictionary.\n",
    "In this method, you will initialize the count matrices (among other things).\n",
    "\n",
    "To be explicit, you will need to initialize $nmz$, $nzw$, and $nz$ to be zero arrays of the correct size.\n",
    "Then, in the second for loop, you will assign z to be a random integer in the correct range of topics.\n",
    "In the increment step, you need to figure out the correct indices to increment by one for each of the three arrays.\n",
    "Finally, assign $topics$ as given.\n",
    "\n",
    "## Problem 4\n",
    "\n",
    "Complete `LDACGS._sweep()`, which needs to iterate through each word of each document.\n",
    "It should call `LDACGS._conditional()` to get the conditional distribution at each iteration.\n",
    "\n",
    "Note that the first part of this method will undo what `LDACGS.initialize()` did.\n",
    "Then we will use the conditional distribution (instead of the uniform distribution we used previously) to pick a more accurate topic assignment.\n",
    "Finally, the latter part repeats what we did in `LDACGS.initialize()`, but does so using this more accurate topic assignment.\n",
    "\n",
    "## Problem 5\n",
    "\n",
    "Complete `LDACGS.sample()`.\n",
    "The argument `filename` is the name and location of a .txt file, where each line is considered a document.\n",
    "The corpus is built by `LDACGS.buildCorpus()`, and stopwords are removed (if argument `stopwords` is provided).\n",
    "Burn in the Gibbs sampler, computing and saving the log-likelihood with the method `_loglikelihood()`.\n",
    "After the burn in, iterate further, accumulating your count matrices, by adding `nzw` and `nmz` to `total_nzw` and `total_nmz` respectively, where you only add every `sample_rate`th iteration. \n",
    "Also save each log-likelihood."
   ]
  },
  {
   "cell_type": "code",
   "execution_count": 9,
   "metadata": {},
   "outputs": [],
   "source": [
    "class LDACGS:\n",
    "    \"\"\"Do LDA with Gibbs Sampling.\"\"\"\n",
    "\n",
    "    def __init__(self, n_topics, alpha=0.1, beta=0.1):\n",
    "        \"\"\"Initialize system parameters.\"\"\"\n",
    "        self.n_topics = n_topics\n",
    "        self.alpha = alpha\n",
    "        self.beta = beta\n",
    "\n",
    "    def buildCorpus(self, filename, stopwords_file=None):\n",
    "        \"\"\"Read the given filename and build the vocabulary.\"\"\"\n",
    "        \n",
    "        # read in document\n",
    "        with open(filename, 'r') as infile:\n",
    "            doclines = [line.rstrip().lower().split(' ') for line in infile]\n",
    "            \n",
    "        n_docs = len(doclines)\n",
    "        self.vocab = list({v for doc in doclines for v in doc})\n",
    "        \n",
    "        if stopwords_file:\n",
    "            with open(stopwords_file, 'r') as stopfile:\n",
    "                stops = stopfile.read().split()\n",
    "            self.vocab = [x for x in self.vocab if x not in stops]\n",
    "            self.vocab.sort()\n",
    "            \n",
    "        self.documents = []\n",
    "        for i in range(n_docs):\n",
    "            self.documents.append({})\n",
    "            for j in range(len(doclines[i])):\n",
    "                if doclines[i][j] in self.vocab:\n",
    "                    self.documents[i][j] = self.vocab.index(doclines[i][j])\n",
    "\n",
    "    def initialize(self):\n",
    "        \"\"\"Initialize the three count matrices.\"\"\"\n",
    "        self.n_words = len(self.vocab)\n",
    "        self.n_docs = len(self.documents)\n",
    "        \n",
    "        # Initialize the three count matrices.\n",
    "        # The (m,z) entry of self.nmz is the number of words in document m assigned to topic z.\n",
    "        self.nmz = np.zeros((self.n_docs, self.n_topics))\n",
    "        \n",
    "        # The (z,i) entry of self.nzw is the number of times term i is assigned to topic z.\n",
    "        self.nzw = np.zeros((self.n_topics, self.n_words))\n",
    "        \n",
    "        # The (z)-th entry is the number of times topic z is assigned in the corpus.\n",
    "        self.nz = np.zeros(self.n_topics)\n",
    "\n",
    "        # Initialize the topic assignment dictionary.\n",
    "        self.topics = {} # key-value pairs of form (m,i):z\n",
    "\n",
    "        for m in range(self.n_docs):\n",
    "            for i in self.documents[m]:\n",
    "                # Get random topic assignment, i.e. z = ...\n",
    "                z = np.random.randint(self.n_topics)\n",
    "                \n",
    "                # Increment count matrices\n",
    "                self.nmz[m,z] += 1\n",
    "                w = self.documents[m][i]\n",
    "                self.nzw[z, w] += 1\n",
    "                self.nz[z] += 1\n",
    "                \n",
    "                # Store topic assignment, i.e. self.topics[(m,i)]=z\n",
    "                self.topics[(m,i)]=z\n",
    "\n",
    "    def sample(self,filename, burnin=100, sample_rate=10, n_samples=10, stopwords_file=None):\n",
    "        self.buildCorpus(filename, stopwords_file)\n",
    "        self.initialize()\n",
    "        self.total_nzw = np.zeros((self.n_topics, self.n_words))\n",
    "        self.total_nmz = np.zeros((self.n_docs, self.n_topics))\n",
    "        self.logprobs = np.zeros(burnin + sample_rate*n_samples)\n",
    "        \n",
    "        for i in tqdm_notebook(range(burnin)):\n",
    "            # Sweep and store log likelihood.\n",
    "            self._sweep()\n",
    "            self.logprobs[i] = self._loglikelihood()\n",
    "                        \n",
    "        for i in tqdm_notebook(range(n_samples*sample_rate)):\n",
    "            # Sweep and store log likelihood\n",
    "            self._sweep()\n",
    "            self.logprobs[burnin + i] = self._loglikelihood()\n",
    "\n",
    "            if not i % sample_rate:\n",
    "                # accumulate counts\n",
    "                self.total_nzw += self.nzw\n",
    "                self.total_nmz += self.nmz\n",
    "                \n",
    "    def phi(self):\n",
    "        phi = self.total_nzw + self.beta\n",
    "        self._phi = phi / np.sum(phi, axis=1)[:,np.newaxis]\n",
    "\n",
    "    def theta(self):\n",
    "        theta = self.total_nmz + self.alpha\n",
    "        self._theta = theta / np.sum(theta, axis=1)[:,np.newaxis]\n",
    "\n",
    "    def topterms(self,n_terms=10):\n",
    "        self.phi()\n",
    "        self.theta()\n",
    "        vec = np.atleast_2d(np.arange(0,self.n_words))\n",
    "        topics = []\n",
    "        for k in range(self.n_topics):\n",
    "            probs = np.atleast_2d(self._phi[k,:])\n",
    "            mat = np.append(probs,vec,0)\n",
    "            sind = np.array([mat[:,i] for i in np.argsort(mat[0])]).T\n",
    "            topics.append([self.vocab[int(sind[1,self.n_words - 1 - i])] for i in range(n_terms)])\n",
    "        return topics\n",
    "\n",
    "    def toplines(self,n_lines=5):\n",
    "        lines = np.zeros((self.n_topics,n_lines))\n",
    "        for i in range(self.n_topics):\n",
    "            args = np.argsort(self._theta[:,i]).tolist()\n",
    "            args.reverse()\n",
    "            lines[i,:] = np.array(args)[0:n_lines] + 1\n",
    "        return lines\n",
    "\n",
    "    def _removeStopwords(self, stopwords):\n",
    "        return [x for x in self.vocab if x not in stopwords]\n",
    "\n",
    "    def _conditional(self, m, w):\n",
    "        dist = (self.nmz[m,:] + self.alpha) * (self.nzw[:,w] + self.beta) / (self.nz + self.beta*self.n_words)\n",
    "        return dist / np.sum(dist)\n",
    "\n",
    "    def _sweep(self):\n",
    "        for m in range(self.n_docs):\n",
    "            for i in self.documents[m]:             \n",
    "                # Retrieve topic assignment for i-th word in document m.\n",
    "                topic = self.topics[(m,i)]\n",
    "                \n",
    "                # Decrement count matrices.\n",
    "                self.nmz[m,topic] -= 1\n",
    "                w = self.documents[m][i]\n",
    "                self.nzw[topic, w] -= 1\n",
    "                self.nz[topic] -= 1\n",
    "                \n",
    "                # Get conditional distribution.\n",
    "                cond_dist = self._conditional(m, w)\n",
    "                \n",
    "                # Sample new topic assignment.\n",
    "                new_topic = np.random.choice(np.arange(self.n_topics), None, p=cond_dist)\n",
    "                \n",
    "                # Increment count matrices.\n",
    "                self.nmz[m,new_topic] += 1\n",
    "                self.nzw[new_topic, w] += 1\n",
    "                self.nz[new_topic] += 1\n",
    "                \n",
    "                # Store new topic assignment.\n",
    "                self.topics[(m,i)] = new_topic\n",
    "                \n",
    "\n",
    "    def _loglikelihood(self):\n",
    "        lik = 0\n",
    "\n",
    "        for z in range(self.n_topics):\n",
    "            lik += np.sum(gammaln(self.nzw[z,:] + self.beta)) - gammaln(np.sum(self.nzw[z,:] + self.beta))\n",
    "            lik -= self.n_words * gammaln(self.beta) - gammaln(self.n_words*self.beta)\n",
    "\n",
    "        for m in range(self.n_docs):\n",
    "            lik += np.sum(gammaln(self.nmz[m,:] + self.alpha)) - gammaln(np.sum(self.nmz[m,:] + self.alpha))\n",
    "            lik -= self.n_topics * gammaln(self.alpha) - gammaln(self.n_topics*self.alpha)\n",
    "\n",
    "        return lik"
   ]
  },
  {
   "cell_type": "markdown",
   "metadata": {},
   "source": [
    "\n",
    "\n",
    "## Problem 6\n",
    "\n",
    "Create an `LDACGS` object with $20$ topics, letting $\\alpha$ and $\\beta$ be the default values.\n",
    "Run the Gibbs sampler, with a burn in of $100$ iterations, accumulating $10$ samples, only keeping the results of every $10$th sweep.\n",
    "Use `stopwords.txt` as the stopwords file.\n",
    "\n",
    "Plot the log-likelihoods. How long did it take to burn in?"
   ]
  },
  {
   "cell_type": "code",
   "execution_count": 10,
   "metadata": {},
   "outputs": [
    {
     "data": {
      "application/vnd.jupyter.widget-view+json": {
       "model_id": "f2bac313bb85400582c6ad65bf8fb64c"
      }
     },
     "metadata": {},
     "output_type": "display_data"
    },
    {
     "name": "stdout",
     "output_type": "stream",
     "text": [
      "\n"
     ]
    },
    {
     "data": {
      "application/vnd.jupyter.widget-view+json": {
       "model_id": "9ba1c3fbea3d4ed5b3175a7bae8d0bdb"
      }
     },
     "metadata": {},
     "output_type": "display_data"
    },
    {
     "name": "stdout",
     "output_type": "stream",
     "text": [
      "\n"
     ]
    }
   ],
   "source": [
    "L = LDACGS(20)\n",
    "L.sample(filename=\"reagan.txt\", stopwords_file=\"stopwords.txt\")"
   ]
  },
  {
   "cell_type": "code",
   "execution_count": 4,
   "metadata": {
    "scrolled": true
   },
   "outputs": [
    {
     "data": {
      "image/png": "[encoded data removed]",
      "text/plain": [
       "<matplotlib.figure.Figure at 0x1197e6dd8>"
      ]
     },
     "metadata": {},
     "output_type": "display_data"
    }
   ],
   "source": [
    "plt.plot(np.arange(200), L.logprobs, label=\"Log likelihood\")\n",
    "plt.title(\"Log-likelihoods\")\n",
    "plt.xlabel(\"Iterations\")\n",
    "plt.legend()\n",
    "plt.show()"
   ]
  },
  {
   "cell_type": "markdown",
   "metadata": {},
   "source": [
    "Based on observation, the burnin took about 20 iterations."
   ]
  },
  {
   "cell_type": "markdown",
   "metadata": {},
   "source": [
    "## Problem 7\n",
    "\n",
    "Using `topterms()` to examine the topics for Reagan's addresses.\n",
    "Come up with labels for each topic.\n",
    "If `ntopics=20` and `n=10`, we will get the top $10$ words that represent each of the $20$ topics; for each topic, decide what these ten words jointly represent."
   ]
  },
  {
   "cell_type": "code",
   "execution_count": 5,
   "metadata": {},
   "outputs": [
    {
     "name": "stdout",
     "output_type": "stream",
     "text": [
      "['space', 'develop', 'research', 'build', 'enterprise', \"we're\", 'technology', 'industry', 'save', 'well,']\n",
      "['freedom', 'people', 'peace', 'democratic', 'free', 'world', 'central', 'america', 'democracy', 'great']\n",
      "['mr.', 'members', 'congress,', 'speaker,', 'bipartisan', 'president,', 'senate', 'distinguished', 'fellow', 'house']\n",
      "['children', 'families', 'education', 'school', 'back', 'commitment', 'and,', 'encourage', 'parents', 'give']\n",
      "[\"it's\", \"we're\", 'time', \"i've\", \"there's\", 'america', 'now,', 'past', 'well,', 'century']\n",
      "['federal', 'government', 'budget', 'states', \"let's\", 'programs', 'local', 'people', 'american', 'time']\n",
      "['america', '--', 'life', 'spirit', 'make', 'tonight,', 'children', 'work', 'us,', 'american']\n",
      "['economic', 'spending', 'tax', 'federal', 'billion', 'government', 'program', 'inflation', 'interest', 'rates']\n",
      "['congress', 'state', 'president', 'union', 'address', 'joint', 'administration', 'session', 'ronald', \"reagan's\"]\n",
      "['programs', 'people', 'special', 'waste', \"don't\", 'start', 'food', 'million', 'congress', 'single']\n",
      "['trade', 'world', \"america's\", 'economic', 'free', 'foreign', 'american', 'policy', 'make', 'greater']\n",
      "['years', 'america', 'time', 'high', 'young', 'great', 'reach', 'nation', 'future', 'hope']\n",
      "['made', 'freedom.', 'economic', 'tonight', 'progress', 'peace', 'year', \"we've\", 'nation', 'united']\n",
      "['tax', 'reform', 'work', 'provide', 'jobs', 'incentives', 'continue', 'job', 'needed', 'personal']\n",
      "['program.', 'confidence', 'failed', 'proposing', 'vehicles', 'music', 'system', 'america', 'provided', 'entire']\n",
      "['--', 'american', 'people', 'government', 'americans', 'private', 'tonight', 'make', \"we're\", 'great']\n",
      "['social', 'welfare', 'programs', 'national', 'poverty', 'system', 'security', 'commission', 'major', 'protect']\n",
      "['defense', 'soviet', 'arms', 'military', 'nuclear', 'security', 'years', 'strategic', 'world', 'america']\n",
      "['god', 'bless', 'you,', '.', 'day', 'you.', 'america.', 'rising', 'men', 'setting']\n",
      "['--', 'time', 'rights', 'years', 'crime', '2', 'task', 'laws', 'women', 'victims']\n"
     ]
    }
   ],
   "source": [
    "# topics = L.topterms()\n",
    "for l in L.topterms():\n",
    "    print(l)"
   ]
  },
  {
   "cell_type": "markdown",
   "metadata": {},
   "source": [
    "For each of the topics, here is a phrase that represents the joint representation from top to bottom in the lists above:\n",
    "\n",
    "-Advancing in technology\n",
    "\n",
    "-the American Dream\n",
    "\n",
    "-Government\n",
    "\n",
    "-Ideal family standards\n",
    "\n",
    "-America in the past\n",
    "\n",
    "-Programs created by the government in America\n",
    "\n",
    "-American spirit\n",
    "\n",
    "-Economic well being\n",
    "\n",
    "-policies under Reagan's presidency\n",
    "\n",
    "-America's food stamp system\n",
    "\n",
    "-America's trading system\n",
    "\n",
    "-America is futuristic\n",
    "\n",
    "-America is a free country and a united nation\n",
    "\n",
    "-Employment/unemployment\n",
    "\n",
    "-America's media industry\n",
    "\n",
    "-\"I'll make America great again\"- Trump\n",
    "\n",
    "-Poverty in america\n",
    "\n",
    "-American defense system\n",
    "\n",
    "-\"God bless America\"\n",
    "\n",
    "-Laws against crime\n"
   ]
  }
 ],
 "metadata": {
  "kernelspec": {
   "display_name": "Python 3",
   "language": "python",
   "name": "python3"
  },
  "language_info": {
   "codemirror_mode": {
    "name": "ipython",
    "version": 3
   },
   "file_extension": ".py",
   "mimetype": "text/x-python",
   "name": "python",
   "nbconvert_exporter": "python",
   "pygments_lexer": "ipython3",
   "version": "3.6.1"
  }
 },
 "nbformat": 4,
 "nbformat_minor": 2
}
